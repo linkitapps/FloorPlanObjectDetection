{
 "cells": [
  {
   "cell_type": "markdown",
   "metadata": {},
   "source": [
    "# Q2. Object contouring\n",
    "\n",
    "Given a floor plan: export the length of all the walls in a CSV.  The above given figure is just an example figure, you can \n",
    "choose any floor plan.\n"
   ]
  },
  {
   "cell_type": "markdown",
   "metadata": {},
   "source": [
    "## In absence of details, assumptions were made. In the given floorplan design, solid lines in black are seen. Length of these solid lines are calculated.\n",
    "The solution is developed on Python, using mainly Opencv, Numpy and csv Library.\n",
    "To make the measurement, contour methods are used and imported to csv file.\n",
    "Using OPENCV ‘ arclength’ function, perimeter is calculated. \n",
    "Length is approximated to be half of the perimeter, though only perimeter is exported to csv, however in the image. Walls are Labelled with Length and areas , as well.\n"
   ]
  },
  {
   "cell_type": "code",
   "execution_count": 1,
   "metadata": {},
   "outputs": [],
   "source": [
    "#Import the necessary libraries\n",
    "import cv2\n",
    "import numpy as np\n",
    "import csv"
   ]
  },
  {
   "cell_type": "markdown",
   "metadata": {},
   "source": [
    "# Contour Method:  the walls"
   ]
  },
  {
   "cell_type": "code",
   "execution_count": 2,
   "metadata": {},
   "outputs": [],
   "source": [
    "#Wall measurement \n",
    "#to get contour for SOLID walls, uncomment ->'img_gray=255-img_gray', to contur the rets of the object, \n",
    "#comment-->  img_gray=255-img_gray.\n",
    "#for SOLID Walls, min area =50~100 and max: 60,000.\n",
    "#for Rest of the object, min area = 1 and maximum area =7500 (excluding rooms open space detection, which have highest area)\n",
    "#****Each individual contour is a Numpy array of (x,y) coordinates of boundary points of the object.\n",
    "#Draw Contour: first argument is source image, second argument is the contours which should be passed as a Python list, \n",
    "#third argument is index of contours (useful when drawing individual contour. To draw all contours, pass -1) and \n",
    "#remaining arguments are color, thickness etc.\n",
    "img = cv2.imread('icon_floorplan.jpg') #This image is of size (351,555,3)\n",
    "img=cv2.resize(img,(900,500))\n",
    "img_gray=cv2.cvtColor(img,cv2.COLOR_BGR2GRAY) #Converted to gray scale\n",
    "#img_gray=255-img_gray   #inverted to highlight solid lines in white\n",
    "gray = cv2.threshold(img_gray.copy(), 200,255, cv2.THRESH_BINARY_INV)[1] #threshold applied to cleanout noise\n",
    "contours,hierarchy = cv2.findContours(gray,cv2.RETR_LIST ,cv2.CHAIN_APPROX_SIMPLE ) # retrieval method: cv2.RETR_TREE/LIST/EXTERNAL,  appprox method: CHAIN_APPROX_SIMPLE removes reduntant points (givesonly cornor poits data)\n",
    "\n",
    "bucket_walls=[]  #\n",
    "contour_sizes = []\n",
    "#Select the contour based on area size\n",
    "i=0\n",
    "font = cv2.FONT_HERSHEY_SIMPLEX \n",
    "for cnt in contours:\n",
    "    area = cv2.contourArea(cnt)\n",
    "    if area>100 and area<60000:    #adjust the area to filter out\n",
    "        L=cv2.arcLength(cnt, True)\n",
    "        contour_sizes.append(L)\n",
    "        text1 = \"Label_\" + str(i)\n",
    "        #text2= \"Length_\" +str(round(L/2)) #arcLength calculates the perimeter of a contour. Length is approx to be half.\n",
    "        #text3 = \"Area_\" + str(round(area))\n",
    "        bucket_walls.append(cnt)\n",
    "        cv2.drawContours(img,[cnt],0,(255,0,0),2) # selecting to draw contour by contour\n",
    "        x = cnt[0][0][0]\n",
    "        y=cnt[0][0][1]\n",
    "        #cv2.putText(img, text1, (x+15, y+30),font, 0.5, (255, 0, 0),1)\n",
    "        #cv2.putText(img, text2, (x+15, y+40),font, 0.4, (0, 40,255))\n",
    "        #cv2.putText(img, text3, (x+15, y+60),font, 0.4, (0, 40,255))   \n",
    "        x1,y1,w1,h1 = cv2.boundingRect(cnt)\n",
    "        cv2.rectangle(img,(x1,y1),(x1+w1,y1+h1),(0,255,0),2)\n",
    "        i+=1\n",
    "#Display the Contour\n",
    "cv2.imshow('img',img)\n",
    "cv2.waitKey()\n",
    "\n",
    "#write the length to \n",
    "a = np.asarray(contour_sizes)\n",
    "a.tofile(\"wall.csv\",sep=',',format='%10.5f')\n"
   ]
  },
  {
   "cell_type": "code",
   "execution_count": 3,
   "metadata": {},
   "outputs": [
    {
     "name": "stdout",
     "output_type": "stream",
     "text": [
      "Total contours detected: 1122\n",
      "There are 243 objects detected in this floor Plan:\n"
     ]
    }
   ],
   "source": [
    "print(\"Total contours detected:\", len(contours))\n",
    "print(\"There are %s objects detected in this floor Plan:\" %(len(bucket_walls)))"
   ]
  },
  {
   "cell_type": "markdown",
   "metadata": {},
   "source": [
    "## Connected Component: Get the number of Walls"
   ]
  },
  {
   "cell_type": "code",
   "execution_count": 4,
   "metadata": {},
   "outputs": [
    {
     "name": "stdout",
     "output_type": "stream",
     "text": [
      "Stats:  7\n",
      "Centroid:  7\n",
      "label:  500\n",
      "Unique Labels  7\n"
     ]
    }
   ],
   "source": [
    "#Using the connected component stats method to highlight the Walls/Number of object identified. Connected component stats returns, \n",
    "#labels with stats coordinates (x,y,w,h,a) and centroid info.\n",
    "\n",
    "#Color image is loaded so that color outlines can displayed\n",
    "img_color = cv2.imread('floorplan.jpg')   #canvas.jpg \n",
    "img_color=cv2.resize(img_color,(900,500))\n",
    "\n",
    "#Load the image, resize, change to gray and apply connected components\n",
    "img = cv2.imread('floorplan.jpg') #This image is of size (351,555,3)\n",
    "img=cv2.resize(img,(900,500))\n",
    "img_gray=cv2.cvtColor(img,cv2.COLOR_BGR2GRAY) #Converted to gray scale\n",
    "img_gray=255-img_gray   #inverted to highlight solid lines in white\n",
    "gray = cv2.threshold(img_gray.copy(), 235,255, cv2.THRESH_BINARY)[1]   #245,255,\n",
    "# Find the connected components on the floor\n",
    "nb_components, labels, stats, centroids = cv2.connectedComponentsWithStats(gray, connectivity=8)# takes in gray image, connectivity to lookout for corners and output image data type.\n",
    "\n",
    "#Threshold to filterout noises\n",
    "gap_threshold = 20\n",
    "\n",
    "#Create a empty list to collect identified objects\n",
    "Walls_object=[]\n",
    "\n",
    "font = cv2.FONT_HERSHEY_SIMPLEX \n",
    "\n",
    "unique = np.unique(labels) #labels are in multitude, so we get only unique labels\n",
    "\n",
    "#Loop through the labels to highlight identified areas and gets stats(coordinates) f\n",
    "for i in range(0, len(unique)):\n",
    "    component = labels == unique[i]  # enforce to select only unique label\n",
    "    stat = stats[i]    # get the stats and centroid for that label\n",
    "    centroid= centroids[i]\n",
    "    if img_color[component].sum() == 0 or np.count_nonzero(component) < gap_threshold:   #filter out the undesirable noises\n",
    "        color = 0\n",
    "    else:\n",
    "        Walls_object.append([i, component,stat, centroid])  # collect the labels and stats \n",
    "        color = np.random.randint(0, 255, size=3)\n",
    "    img_color[component] = color    #hightlight label/components on image \n",
    "    text=\"Label_\" +str(i)\n",
    "    x,y = centroid\n",
    "    cv2.putText(img_color, text, (x.astype(int), y.astype(int)),font, 0.4, (250, 0,0)) #print Labels\n",
    "\n",
    "#show image\n",
    "cv2.imshow('img',img_color)   \n",
    "cv2.waitKey()\n",
    "print(\"Stats: \",len(stats))\n",
    "print(\"Centroid: \",len(centroids))\n",
    "print(\"label: \",len(labels))\n",
    "print(\"Unique Labels \", len(unique))"
   ]
  },
  {
   "cell_type": "code",
   "execution_count": null,
   "metadata": {},
   "outputs": [],
   "source": []
  }
 ],
 "metadata": {
  "kernelspec": {
   "display_name": "Python 3",
   "language": "python",
   "name": "python3"
  },
  "language_info": {
   "codemirror_mode": {
    "name": "ipython",
    "version": 3
   },
   "file_extension": ".py",
   "mimetype": "text/x-python",
   "name": "python",
   "nbconvert_exporter": "python",
   "pygments_lexer": "ipython3",
   "version": "3.7.9"
  }
 },
 "nbformat": 4,
 "nbformat_minor": 2
}
